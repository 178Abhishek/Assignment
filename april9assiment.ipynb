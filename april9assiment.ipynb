{
 "cells": [
  {
   "cell_type": "markdown",
   "id": "66a785f5-6b55-4761-ba90-d7603c38bd85",
   "metadata": {},
   "source": [
    "# Que 1 What is Bayes' theorem?\n",
    "Ans - Bayes' theorem is a mathematical formula that describes how to update the probability of a hypothesis based on new evidence"
   ]
  },
  {
   "cell_type": "markdown",
   "id": "87a10861-4fd1-41d9-be61-69e21c492268",
   "metadata": {},
   "source": [
    "# Q2. What is the formula for Bayes' theorem?\n",
    "Ans- The formula for Bayes' theorem is:\r\n",
    "\r\n",
    "$$P(H|E) = \\frac{P(E|H) \\cdot P(H)}{P(E)}$$"
   ]
  },
  {
   "cell_type": "markdown",
   "id": "cbd87eae-f926-42b0-903f-0cfc17552a79",
   "metadata": {},
   "source": [
    "# Q3. How is Bayes' theorem used in practice? \n",
    "Answer -Bayes' theorem has numerous applications in various fields, including machine learning, medical diagnosis, finance, and image processing"
   ]
  },
  {
   "cell_type": "markdown",
   "id": "f3b6ea6c-2fc2-4bde-9d59-91bca0935532",
   "metadata": {},
   "source": [
    "# Q4. What is the relationship between Bayes' theorem and conditional probability?\n",
    "Bayes' theorem is closely related to conditional probability. In fact, Bayes' theorem can be derived from the definition of conditional probability:\r\n",
    "\r\n",
    "$$P(A|B) = \\frac{P(A \\cap B)}{P(B)}$$"
   ]
  },
  {
   "cell_type": "markdown",
   "id": "950247a5-751a-400b-9325-d76e9fd714f1",
   "metadata": {},
   "source": [
    "# Q5. How do you choose which type of Naive Bayes classifier to use for any given problem?\n",
    "The choice of Naive Bayes classifier depends on the type of data and the problem you're trying to solve."
   ]
  },
  {
   "cell_type": "markdown",
   "id": "067ab2a8-3a17-48ca-8cf0-cef87976f1d6",
   "metadata": {},
   "source": [
    " # Q6 Assiment "
   ]
  },
  {
   "cell_type": "code",
   "execution_count": 7,
   "id": "f05451a7-a947-4f22-bc2f-ccd8ff51a026",
   "metadata": {},
   "outputs": [
    {
     "name": "stdout",
     "output_type": "stream",
     "text": [
      "Posterior probability of class A: 0.4615384615384615\n",
      "Posterior probability of class B: 0.5384615384615384\n",
      "The new instance is classified as class B.\n"
     ]
    }
   ],
   "source": [
    "import pandas as pd\n",
    "\n",
    "# Define the dataset\n",
    "data = {\n",
    "    'Class': ['A', 'A', 'A', 'A', 'A', 'A', 'A', 'B', 'B', 'B', 'B', 'B', 'B'],\n",
    "    'X1': [1, 1, 1, 2, 2, 2, 3, 1, 1, 2, 2, 2, 3],\n",
    "    'X2': [1, 2, 3, 1, 2, 3, 4, 1, 2, 1, 2, 3, 4]\n",
    "}\n",
    "\n",
    "df = pd.DataFrame(data)\n",
    "\n",
    "# Define the new instance\n",
    "new_instance = pd.DataFrame({'X1': [3], 'X2': [4]})\n",
    "\n",
    "# Calculate the prior probabilities\n",
    "prior_A = len(df[df['Class'] == 'A']) / len(df)\n",
    "prior_B = len(df[df['Class'] == 'B']) / len(df)\n",
    "\n",
    "# Calculate the likelihoods\n",
    "likelihood_A_X1 = len(df[(df['Class'] == 'A') & (df['X1'] == 3)]) / len(df[df['Class'] == 'A'])\n",
    "likelihood_A_X2 = len(df[(df['Class'] == 'A') & (df['X2'] == 4)]) / len(df[df['Class'] == 'A'])\n",
    "likelihood_B_X1 = len(df[(df['Class'] == 'B') & (df['X1'] == 3)]) / len(df[df['Class'] == 'B'])\n",
    "likelihood_B_X2 = len(df[(df['Class'] == 'B') & (df['X2'] == 4)]) / len(df[df['Class'] == 'B'])\n",
    "\n",
    "# Calculate the posterior probabilities\n",
    "posterior_A = (likelihood_A_X1 * likelihood_A_X2 * prior_A) / ((likelihood_A_X1 * likelihood_A_X2 * prior_A) + (likelihood_B_X1 * likelihood_B_X2 * prior_B))\n",
    "posterior_B = (likelihood_B_X1 * likelihood_B_X2 * prior_B) / ((likelihood_A_X1 * likelihood_A_X2 * prior_A) + (likelihood_B_X1 * likelihood_B_X2 * prior_B))\n",
    "\n",
    "print(\"Posterior probability of class A:\", posterior_A)\n",
    "print(\"Posterior probability of class B:\", posterior_B)\n",
    "\n",
    "if posterior_A > posterior_B:\n",
    "    print(\"The new instance is classified as class A.\")\n",
    "else:\n",
    "    print(\"The new instance is classified as class B.\")"
   ]
  },
  {
   "cell_type": "code",
   "execution_count": null,
   "id": "982bd50b-f5b7-4239-88e8-402f2901c111",
   "metadata": {},
   "outputs": [],
   "source": []
  }
 ],
 "metadata": {
  "kernelspec": {
   "display_name": "Python 3 (ipykernel)",
   "language": "python",
   "name": "python3"
  },
  "language_info": {
   "codemirror_mode": {
    "name": "ipython",
    "version": 3
   },
   "file_extension": ".py",
   "mimetype": "text/x-python",
   "name": "python",
   "nbconvert_exporter": "python",
   "pygments_lexer": "ipython3",
   "version": "3.11.7"
  }
 },
 "nbformat": 4,
 "nbformat_minor": 5
}
