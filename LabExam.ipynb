{
  "nbformat": 4,
  "nbformat_minor": 0,
  "metadata": {
    "colab": {
      "provenance": []
    },
    "kernelspec": {
      "name": "python3",
      "display_name": "Python 3"
    },
    "language_info": {
      "name": "python"
    }
  },
  "cells": [
    {
      "cell_type": "code",
      "execution_count": 3,
      "metadata": {
        "id": "7juVmErz4iVm"
      },
      "outputs": [],
      "source": [
        "import numpy as np\n",
        "import math\n",
        "import matplotlib.pyplot as plt"
      ]
    },
    {
      "cell_type": "markdown",
      "source": [
        "L3\n"
      ],
      "metadata": {
        "id": "YAxHXNAu8k8W"
      }
    },
    {
      "cell_type": "code",
      "source": [
        "def fact(n):\n",
        "  result=1\n",
        "  for i in range(1,n+1):\n",
        "    result*=i\n",
        "  return result\n",
        "\n"
      ],
      "metadata": {
        "id": "baa8ltQY4n7r"
      },
      "execution_count": 11,
      "outputs": []
    },
    {
      "cell_type": "code",
      "source": [
        "def f(x,n):\n",
        "  sum=0\n",
        "  for i in range(n+1):\n",
        "    sum=sum+((x**i)/fact(i))\n",
        "  return sum"
      ],
      "metadata": {
        "id": "zPmgCEuP4oAa"
      },
      "execution_count": 12,
      "outputs": []
    },
    {
      "cell_type": "code",
      "source": [
        "x=np.linspace(0,8,800)\n",
        "y=np.exp(x)\n",
        "\n",
        "p0=pow(x,0)\n",
        "p1=1+x\n",
        "p2=1+x+pow(x,2)/2\n",
        "p3=1+x+pow(x,2)/2+pow(x,3)/6\n",
        "p4=1+x+pow(x,2)/2+pow(x,3)/6+pow(x,4)/24\n",
        "p5=1+x+pow(x,2)/2+pow(x,3)/6+pow(x,4)/24+pow(x,5)/120\n",
        "\n",
        "plt.plot(x,p0)\n",
        "plt.plot(x,p1)\n",
        "plt.plot(x,p2)\n",
        "plt.plot(x,p3)\n",
        "plt.plot(x,p4)\n",
        "plt.plot(x,p5)\n",
        "plt.plot(x,y)\n",
        "plt.show()"
      ],
      "metadata": {
        "colab": {
          "base_uri": "https://localhost:8080/",
          "height": 430
        },
        "id": "F8Vtt2W14oC6",
        "outputId": "0536ab0f-47d9-461c-c894-e291918066d5"
      },
      "execution_count": 13,
      "outputs": [
        {
          "output_type": "display_data",
          "data": {
            "text/plain": [
              "<Figure size 640x480 with 1 Axes>"
            ],
            "image/png": "[encoded data removed]"
          },
          "metadata": {}
        }
      ]
    },
    {
      "cell_type": "markdown",
      "source": [
        "L4"
      ],
      "metadata": {
        "id": "FTN54fWP8-bt"
      }
    },
    {
      "cell_type": "markdown",
      "source": [
        "**Lagrange’s interpolation**"
      ],
      "metadata": {
        "id": "5yXzclOd9R8G"
      }
    },
    {
      "cell_type": "code",
      "source": [
        "def Lagrange(n,X,Y,x):\n",
        "  sum=0\n",
        "  for i in range(n):\n",
        "    prod=Y[i]\n",
        "    for j in range(n):\n",
        "      if i!=j:\n",
        "        prod*=((x-X[j])/(X[i]-X[j]))\n",
        "    sum+=prod\n",
        "  return sum\n",
        "\n",
        "def estimate(n,X,Y,x,f):\n",
        "  y=round(Lagrange(n,X,Y,x),5)\n",
        "  print(\"Approximate value =\",y)\n",
        "  real=round(f(x),7)\n",
        "  print(\"Error=\",abs((real-y)/real))\n",
        "\n"
      ],
      "metadata": {
        "id": "po-C_E8t6HWI"
      },
      "execution_count": 17,
      "outputs": []
    },
    {
      "cell_type": "code",
      "source": [
        " f1 = lambda x: math.exp(x)"
      ],
      "metadata": {
        "id": "dJIpXxJL9AKN"
      },
      "execution_count": 15,
      "outputs": []
    },
    {
      "cell_type": "code",
      "source": [
        "print(\"Example 1\")\n",
        "X=[0,2]\n",
        "Y=[1,7.3891]\n",
        "estimate(2,X,Y,1,f1)"
      ],
      "metadata": {
        "colab": {
          "base_uri": "https://localhost:8080/",
          "height": 0
        },
        "id": "S_5Wb6Qz9AM9",
        "outputId": "d6bb905a-dcbf-4702-da2f-b7bac9c643aa"
      },
      "execution_count": 18,
      "outputs": [
        {
          "output_type": "stream",
          "name": "stdout",
          "text": [
            "Example 1\n",
            "Approximate value = 4.19455\n",
            "Error= 0.5430887261210369\n"
          ]
        }
      ]
    },
    {
      "cell_type": "markdown",
      "source": [
        "**Bisection method**"
      ],
      "metadata": {
        "id": "dAbPE8ja-Fit"
      }
    },
    {
      "cell_type": "code",
      "source": [
        "def check(a,b):\n",
        "  if f(a)*f(b)>0:\n",
        "    exit()\n",
        "  if f(a)==0:\n",
        "    return a\n",
        "  if f(b)==0:\n",
        "    return b\n",
        "  if f(a)*f(b)<0:\n",
        "    return True\n",
        "def bis(a,b):\n",
        "  for i in range(M):\n",
        "    if (check(a,b)==True and i==0):\n",
        "      x=(a+b)/2\n",
        "    elif(type(check(a,b)== \"int\"and i==0)):\n",
        "      x=check(a,b)\n",
        "      break\n",
        "    else:\n",
        "      if(check(a,x)):\n",
        "        b=x\n",
        "      else:\n",
        "        a=x\n",
        "      y=(a+b)/2\n",
        "      if(i>0 and x!=0):\n",
        "        eapprox=abs((y-x)/x)\n",
        "      else:\n",
        "        eapprox=1000\n",
        "      if (TV!=0):\n",
        "        etrue=abs((TV-y)/TV)\n",
        "\n",
        "      if(eapprox<es and f(y)<e):\n",
        "        break\n",
        "      else:\n",
        "        x=y\n",
        "      exit()\n",
        "    print(\"The root is\",x)\n"
      ],
      "metadata": {
        "id": "Ma8qW3lc9APV"
      },
      "execution_count": 19,
      "outputs": []
    },
    {
      "cell_type": "code",
      "source": [
        "a=0\n",
        "b=0.5\n",
        "M=1000\n",
        "e=10**(-5)\n",
        "\n",
        "def f(x):\n",
        "  return x+1-2*(math.sin((math.pi)*x))\n",
        "\n",
        "bis(a,b)"
      ],
      "metadata": {
        "colab": {
          "base_uri": "https://localhost:8080/",
          "height": 0
        },
        "id": "4lpTMHE89ARm",
        "outputId": "e3a4e10d-9314-4e76-f3b2-9cabbc3ee8e8"
      },
      "execution_count": 20,
      "outputs": [
        {
          "output_type": "stream",
          "name": "stdout",
          "text": [
            "The root is 0.25\n"
          ]
        }
      ]
    },
    {
      "cell_type": "markdown",
      "source": [
        "**Regula False method**"
      ],
      "metadata": {
        "id": "SB_LgLJ9-WvM"
      }
    },
    {
      "cell_type": "code",
      "source": [
        "def rf(a,b):\n",
        "  if f(a)*f(b)>0:\n",
        "    exit()\n",
        "  if f(a)==0:\n",
        "    return a\n",
        "    x=a\n",
        "  if f(b)==0:\n",
        "    return b\n",
        "    x=b\n",
        "  for i in range(M):\n",
        "    y=b-f(b)*(b-a)/(f(b)-f(a))\n",
        "\n",
        "    print(\"The root is :\",y)\n",
        "    break\n",
        "    if f(a)*f(y)<0:\n",
        "      b=y\n",
        "    else:\n",
        "      a=y\n",
        "\n",
        "  exit()"
      ],
      "metadata": {
        "id": "G4F4-Shx-cK1"
      },
      "execution_count": 21,
      "outputs": []
    },
    {
      "cell_type": "code",
      "source": [
        "M=1000\n",
        "def f(x):\n",
        "  return x**4-2*x**3-4*(x**2)+4*x+4\n",
        "rf(-2,1)"
      ],
      "metadata": {
        "colab": {
          "base_uri": "https://localhost:8080/",
          "height": 0
        },
        "id": "Lk2--Z-3-chk",
        "outputId": "8ede3d2b-a54a-42ff-badf-03dd69ace217"
      },
      "execution_count": 22,
      "outputs": [
        {
          "output_type": "stream",
          "name": "stdout",
          "text": [
            "The root is : 2.0\n"
          ]
        }
      ]
    },
    {
      "cell_type": "code",
      "source": [],
      "metadata": {
        "id": "XZVS3ub8-cku"
      },
      "execution_count": null,
      "outputs": []
    },
    {
      "cell_type": "markdown",
      "source": [
        "**Fixed point**"
      ],
      "metadata": {
        "id": "gMddZml--xPU"
      }
    },
    {
      "cell_type": "code",
      "source": [
        "def fixed_point(f,x0,M,es,e):\n",
        "    eapprox=0.0\n",
        "    # print(\"Iteration\\txi\\t\\tEa\\t\\t|f(xi)|\\t\\t|g(xi)|\")\n",
        "    # print(\"0\\t\\t\",x0,\"\\t\\t0.0\\t\\t\",abs(f(x0)),\"\\t\\t\",abs(f(x0)-x0))\n",
        "    for i in range(1,M):\n",
        "      x1=f(x0)\n",
        "      if x1!=0:\n",
        "        eapprox=abs((x1-x0)/x1)\n",
        "\n",
        "      # print(i,\"\\t\\t\",x1,\"\\t\\t\",eapprox,\"\\t\\t\",abs(f(x1)),\"\\t\\t\",abs(f(x1)-x1))\n",
        "      if abs(eapprox)<es and abs(f(x1)-x1)<e:\n",
        "\n",
        "        break\n",
        "      else:\n",
        "        x0=x1\n",
        "    print(\"Approximate root=\",x1)\n",
        "\n",
        "\n",
        "\n"
      ],
      "metadata": {
        "id": "8Q9luCEI-z5s"
      },
      "execution_count": 5,
      "outputs": []
    },
    {
      "cell_type": "code",
      "source": [
        "def f1(x):\n",
        "    return (1/math.exp(x))\n"
      ],
      "metadata": {
        "id": "pN9XRTKJ_IGU"
      },
      "execution_count": 7,
      "outputs": []
    },
    {
      "cell_type": "code",
      "source": [
        "print(\"e(-x)-x=0\")\n",
        "fixed_point(f1,0,1000,10**-5,10**-6)"
      ],
      "metadata": {
        "colab": {
          "base_uri": "https://localhost:8080/",
          "height": 0
        },
        "id": "YlIlSW1B-737",
        "outputId": "33392c03-16c4-4a4f-99f6-61c960ba75f8"
      },
      "execution_count": 8,
      "outputs": [
        {
          "output_type": "stream",
          "name": "stdout",
          "text": [
            "e(-x)-x=0\n",
            "Approximate root= 0.5671437480994115\n"
          ]
        }
      ]
    },
    {
      "cell_type": "markdown",
      "source": [
        "**Newton-Raphson method**"
      ],
      "metadata": {
        "id": "RoC2aZTO_OME"
      }
    },
    {
      "cell_type": "code",
      "source": [
        "import math\n",
        "import sympy as sp"
      ],
      "metadata": {
        "id": "5KnOHBd4_TPr"
      },
      "execution_count": 9,
      "outputs": []
    },
    {
      "cell_type": "code",
      "source": [
        "x=sp.symbols(\"x\")\n",
        "M=1000\n",
        "e=10**(-5)"
      ],
      "metadata": {
        "id": "Rzy7qi9Q_oRD"
      },
      "execution_count": 14,
      "outputs": []
    },
    {
      "cell_type": "code",
      "source": [
        "def nr(x0):\n",
        "  for i in range(M):\n",
        "    if g(x0)==0:\n",
        "      print(\"Not root find \")\n",
        "      return\n",
        "\n",
        "    x1=x0-f(x0)/g(x0)\n",
        "    if abs(x1-x0)<e:\n",
        "      print(\"Root is \",x1)\n",
        "      return\n",
        "    x0=x1"
      ],
      "metadata": {
        "id": "h7FkpjQI_Zpq"
      },
      "execution_count": 10,
      "outputs": []
    },
    {
      "cell_type": "code",
      "source": [
        "f1=x+1-2*sp.sin(sp.pi*x)\n",
        "df=sp.diff(f1,x)\n",
        "f=sp.lambdify(x,f1)\n",
        "g=sp.lambdify(x,df)\n",
        "nr(0.23)\n"
      ],
      "metadata": {
        "colab": {
          "base_uri": "https://localhost:8080/",
          "height": 0
        },
        "id": "kiBxdrPh_fBb",
        "outputId": "d56f816b-c1cb-4324-fb05-a261b0a3f902"
      },
      "execution_count": 15,
      "outputs": [
        {
          "output_type": "stream",
          "name": "stdout",
          "text": [
            "Root is  0.20603511956798515\n"
          ]
        }
      ]
    },
    {
      "cell_type": "markdown",
      "source": [
        "**Secent**"
      ],
      "metadata": {
        "id": "EfuyGOp8_yuz"
      }
    },
    {
      "cell_type": "code",
      "source": [
        "def secant(x0,x1):\n",
        "  for i in range(M):\n",
        "    if f(x1)==0:\n",
        "      print(\"Not root find \")\n",
        "      return\n",
        "    x2=x1-f(x1)*(x1-x0)/(f(x1)-f(x0))\n",
        "    if abs(x2-x1)<e:\n",
        "      print(\"Root is \",x2)\n",
        "      return\n",
        "    x0=x1\n",
        "    x1=x2"
      ],
      "metadata": {
        "id": "-yDRSDMQ_fDl"
      },
      "execution_count": 16,
      "outputs": []
    },
    {
      "cell_type": "code",
      "source": [
        "def f(x):\n",
        "  return x**3-7*x**2+14*x-6\n",
        "\n",
        "secant(0,1)\n"
      ],
      "metadata": {
        "colab": {
          "base_uri": "https://localhost:8080/",
          "height": 0
        },
        "id": "uhm5zD0F_fGK",
        "outputId": "dba220a2-1ba9-490d-caf4-db0db9682760"
      },
      "execution_count": 17,
      "outputs": [
        {
          "output_type": "stream",
          "name": "stdout",
          "text": [
            "Root is  0.5857864398080769\n"
          ]
        }
      ]
    },
    {
      "cell_type": "code",
      "source": [],
      "metadata": {
        "id": "GCmMwxAD_4Li"
      },
      "execution_count": null,
      "outputs": []
    },
    {
      "cell_type": "code",
      "source": [],
      "metadata": {
        "id": "xelsMtBP_4OT"
      },
      "execution_count": null,
      "outputs": []
    },
    {
      "cell_type": "code",
      "source": [
        "def backward_substitution(U, y):\n",
        "    n = len(y)\n",
        "    x = [0] * n\n",
        "    x[n-1] = y[n-1] / U[n-1][n-1]\n",
        "\n",
        "    for i in range(n-2, -1, -1):\n",
        "        sum = y[i]\n",
        "        for j in range(i+1, n):\n",
        "            sum -= U[i][j] * x[j]\n",
        "        x[i] = sum / U[i][i]\n",
        "\n",
        "    return x\n",
        "\n",
        "# Example usage:\n",
        "U = [[4, -1, 1],\n",
        "     [0, 3, -2],\n",
        "     [0, 0, 5]]\n",
        "y = [3, 7, 2]\n",
        "\n",
        "x = backward_substitution(U, y)\n",
        "print(\"Solution for Backward Substitution:\", x)\n"
      ],
      "metadata": {
        "colab": {
          "base_uri": "https://localhost:8080/",
          "height": 0
        },
        "id": "Cgl4ZNxV_4Qp",
        "outputId": "287a0be8-622f-4eb7-9021-066d4c55161b"
      },
      "execution_count": 18,
      "outputs": [
        {
          "output_type": "stream",
          "name": "stdout",
          "text": [
            "Solution for Backward Substitution: [1.2999999999999998, 2.6, 0.4]\n"
          ]
        }
      ]
    },
    {
      "cell_type": "code",
      "source": [
        "def forward_substitution(L, b):\n",
        "    n = len(b)\n",
        "    y = [0] * n\n",
        "    y[0] = b[0] / L[0][0]\n",
        "\n",
        "    for i in range(1, n):\n",
        "        sum = b[i]\n",
        "        for j in range(i):\n",
        "            sum -= L[i][j] * y[j]\n",
        "        y[i] = sum / L[i][i]\n",
        "\n",
        "    return y\n",
        "\n",
        "# Example usage:\n",
        "L = [[1, 0, 0],\n",
        "     [2, 1, 0],\n",
        "     [1, 2, 1]]\n",
        "b = [1, 2, 3]\n",
        "\n",
        "y = forward_substitution(L, b)\n",
        "print(\"Solution for Forward Substitution:\", y)\n"
      ],
      "metadata": {
        "colab": {
          "base_uri": "https://localhost:8080/",
          "height": 0
        },
        "id": "lI5s6CIRFi_V",
        "outputId": "55d5baea-6cfc-4666-fc91-31ebebbc9cfc"
      },
      "execution_count": 19,
      "outputs": [
        {
          "output_type": "stream",
          "name": "stdout",
          "text": [
            "Solution for Forward Substitution: [1.0, 0.0, 2.0]\n"
          ]
        }
      ]
    }
  ]
}