{
 "cells": [
  {
   "cell_type": "markdown",
   "id": "ff86fa1a-4186-496c-a536-1e0c20ad01c4",
   "metadata": {},
   "source": [
    "## Statistics Basic 2"
   ]
  },
  {
   "cell_type": "raw",
   "id": "6a57e209-8a5f-4d8c-bc31-10a0a5dd0545",
   "metadata": {},
   "source": [
    "Ans1- \n",
    "     Mean ,Median,Mode"
   ]
  },
  {
   "cell_type": "raw",
   "id": "e45d3272-d4c5-403d-9ef8-3824b189b3c9",
   "metadata": {},
   "source": [
    "Ans2-\n",
    "     The mean of a data set is found by adding all numbers in the data set and then dividing by the number of values in the set.\n",
    "The median is the middle value when a data set is ordered from least to greatest.\n",
    "The mode is the number that occurs most often in a data set.\n",
    "A measure of central tendency is a summary measure that attempts to describe a whole set of data with a single value\n",
    "that represents the middle or centre of its distribution"
   ]
  },
  {
   "cell_type": "code",
   "execution_count": 33,
   "id": "4fc5338a-977c-4a0b-a968-d14729b9337c",
   "metadata": {},
   "outputs": [
    {
     "data": {
      "text/plain": [
       "177.01875"
      ]
     },
     "execution_count": 33,
     "metadata": {},
     "output_type": "execute_result"
    }
   ],
   "source": [
    "#Que-3\n",
    "height =[178,177,176,177,178.2,178,175,179,180,175,178.9,176.2,177,172.5,178,176.5]\n",
    "import numpy as np\n",
    "np.mean(height)"
   ]
  },
  {
   "cell_type": "code",
   "execution_count": 29,
   "id": "2ed5dcdf-93b2-462c-87de-9249f1f43da8",
   "metadata": {},
   "outputs": [
    {
     "data": {
      "text/plain": [
       "177.0"
      ]
     },
     "execution_count": 29,
     "metadata": {},
     "output_type": "execute_result"
    }
   ],
   "source": [
    "np.median(height)"
   ]
  },
  {
   "cell_type": "code",
   "execution_count": 31,
   "id": "b92e7d02-08c9-43a6-b2fd-9ffb7ebcced5",
   "metadata": {},
   "outputs": [
    {
     "name": "stderr",
     "output_type": "stream",
     "text": [
      "/tmp/ipykernel_76/4182455467.py:2: FutureWarning: Unlike other reduction functions (e.g. `skew`, `kurtosis`), the default behavior of `mode` typically preserves the axis it acts along. In SciPy 1.11.0, this behavior will change: the default value of `keepdims` will become False, the `axis` over which the statistic is taken will be eliminated, and the value None will no longer be accepted. Set `keepdims` to True or False to avoid this warning.\n",
      "  stats.mode(height)\n"
     ]
    },
    {
     "data": {
      "text/plain": [
       "ModeResult(mode=array([177.]), count=array([3]))"
      ]
     },
     "execution_count": 31,
     "metadata": {},
     "output_type": "execute_result"
    }
   ],
   "source": [
    "from scipy import stats\n",
    "stats.mode(height)  "
   ]
  },
  {
   "cell_type": "raw",
   "id": "d393d0b4-3c00-4c99-b30d-3bbafa73c0e1",
   "metadata": {},
   "source": [
    "Que-4"
   ]
  },
  {
   "cell_type": "code",
   "execution_count": 34,
   "id": "a2304016-5b2b-4996-9a02-2a943b80efcd",
   "metadata": {},
   "outputs": [
    {
     "data": {
      "text/plain": [
       "1.7885814036548633"
      ]
     },
     "execution_count": 34,
     "metadata": {},
     "output_type": "execute_result"
    }
   ],
   "source": [
    "data = [178,177,176,177,178.2,178,175,179,180,175,178.9,176.2,177,172.5,178,176.5]\n",
    "import numpy as np\n",
    "np.std(data)"
   ]
  },
  {
   "cell_type": "raw",
   "id": "9f97f632-1334-4ad1-9349-23336191507e",
   "metadata": {},
   "source": [
    "Ans-5 \n",
    "standard deviation is the most commonly used measure of dispersion. It is a measure of spread of data about the mean. SD is the square root of sum of squared deviation from the mean divided by the number of observations\n",
    "This formula is a definitional one and for calculations, an easier formula is used"
   ]
  },
  {
   "cell_type": "raw",
   "id": "bb695ea2-f14a-4679-ac25-adaffd87e1e7",
   "metadata": {},
   "source": [
    "Ans 6- A Venn diagram uses overlapping circles or other shapes to illustrate the logical relationships between two or more sets of items. Often, they serve to graphically organize things, highlighting how the items are similar and different."
   ]
  },
  {
   "cell_type": "raw",
   "id": "13330efb-1829-4264-8701-2c5151f40de8",
   "metadata": {},
   "source": [
    "Ans 7-\n",
    "(i) (2,6)\n",
    "(ii) (0,2,3,4,5,6,7,8,10)"
   ]
  },
  {
   "cell_type": "markdown",
   "id": "566935c8-83ba-4239-8edd-ebf8b197ea87",
   "metadata": {},
   "source": [
    "Ans 8 - \n",
    "Skewness is a measurement of the distortion of symmetrical distribution or asymmetry in a data set\n",
    "Skewness is demonstrated on a bell curve when data points are not distributed symmetrically to the left and right sides of the median on a bell curve"
   ]
  },
  {
   "cell_type": "raw",
   "id": "b1fa1985-64ae-462b-a4d3-1868375b2f14",
   "metadata": {},
   "source": [
    "Ans 9- \n",
    "If the distribution of data is skewed to the right, the mode is often less than the median\n",
    "which is less than the mean"
   ]
  },
  {
   "cell_type": "raw",
   "id": "06976ecc-ab64-4350-9663-1399ddb734a9",
   "metadata": {},
   "source": [
    "Ans 10-\n",
    "Covariance is an indicator of the extent to which 2 random variables are dependent on each other. A higher number denotes higher dependency. Correlation is a statistical measure that indicates how strongly two variables are related\n",
    "The value of covariance lies in the range of -∞ and +∞"
   ]
  },
  {
   "cell_type": "raw",
   "id": "87aaf16e-c9e8-498d-8f53-51f091141f88",
   "metadata": {},
   "source": [
    "Ans 11-\n",
    "The general sample mean formula for calculating the sample mean is expressed as\n",
    "        x̄ = ( Σ xi ) ÷ n\n",
    "Here, x̄ denotes the average value of the samples or sample mean\n",
    "xi refers all X sample values \n",
    "and 'n' stands for the number of sample terms in the given data"
   ]
  },
  {
   "cell_type": "raw",
   "id": "874162cd-b978-4b30-b6ce-38ca87f5ab3c",
   "metadata": {},
   "source": [
    "Ans 12-\n",
    "Any normal distribution has a graph that is perfectly symmetric about a vertical line through its peak. Therefore, all measures of central tendency (most commonly, the mean, median, and mode) give the same answer: the x -value of the peak"
   ]
  },
  {
   "cell_type": "raw",
   "id": "618ac514-9d5a-407f-a28b-0c7cd41903dc",
   "metadata": {},
   "source": [
    "Ans 13-\n",
    " Covariance shows you how the two variables differ, whereas correlation shows you how the two variables are related"
   ]
  },
  {
   "cell_type": "code",
   "execution_count": null,
   "id": "c935eada-74dc-4f7f-8242-140c19473323",
   "metadata": {},
   "outputs": [],
   "source": []
  }
 ],
 "metadata": {
  "kernelspec": {
   "display_name": "Python 3 (ipykernel)",
   "language": "python",
   "name": "python3"
  },
  "language_info": {
   "codemirror_mode": {
    "name": "ipython",
    "version": 3
   },
   "file_extension": ".py",
   "mimetype": "text/x-python",
   "name": "python",
   "nbconvert_exporter": "python",
   "pygments_lexer": "ipython3",
   "version": "3.10.8"
  }
 },
 "nbformat": 4,
 "nbformat_minor": 5
}
